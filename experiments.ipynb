{
 "cells": [
  {
   "cell_type": "markdown",
   "metadata": {},
   "source": [
    "## Run experiments\n",
    "\n",
    "Specify the number of gpus per trial and run different experiments.\n",
    "\n",
    "- `avg_xyz`: 4 independent runs for the black scholes model/heat equations (paraboloid/Gaussian initial condition)/basket option\n",
    "- `compare_xyz`: compare networks for the black scholes model/heat equation (paraboloid initial condition)\n",
    "- `dims_heat_paraboloid`: compare the cost w.r.t. varying input dimension for the heat equation (paraboloid initial condition)\n",
    "- `optimize_bs`: hyperparameter search for the black scholes model\n",
    "- `compare_freeze`: compare freezing strategies for the black scholes model\n",
    "\n",
    "... or add your favorite experiment to `HYPERCONFIGS` in `deep_kolmogorov/trainer`."
   ]
  },
  {
   "cell_type": "code",
   "execution_count": 3,
   "metadata": {},
   "outputs": [
    {
     "data": {
      "application/vnd.jupyter.widget-view+json": {
       "model_id": "5f462f572cc045878cb6fff938459e07",
       "version_major": 2,
       "version_minor": 0
      },
      "text/plain": [
       "HBox(children=(Dropdown(description='experiment', options=('compare_nets_bs', 'compare_nets_heat', 'compare_fr…"
      ]
     },
     "execution_count": 3,
     "metadata": {},
     "output_type": "execute_result"
    }
   ],
   "source": [
    "from deep_kolmogorov import utils\n",
    "run_widget = utils.get_run_widget()\n",
    "run_widget"
   ]
  },
  {
   "cell_type": "code",
   "execution_count": null,
   "metadata": {},
   "outputs": [],
   "source": [
    "!python main.py --mode={run_widget.children[0].value} --gpus={run_widget.children[1].value}"
   ]
  },
  {
   "cell_type": "code",
   "execution_count": 4,
   "metadata": {},
   "outputs": [
    {
     "name": "stdout",
     "output_type": "stream",
     "text": [
      "usage: main.py [-h] [--gpus GPUS]\n",
      "               [--mode {compare_nets_bs,compare_nets_heat,compare_freeze,dims_heat_paraboloid,avg_heat_gaussian,avg_heat_paraboloid,avg_bs,avg_basket,optimize_bs}]\n",
      "               [--seed SEED] [--checkpoint]\n",
      "               [--pde {Basket,BlackScholes,HeatParaboloid,HeatGaussian}]\n",
      "               [--net {MultilevelNetNoRes,MultilevelNet,Feedforward}]\n",
      "               [--norm_layer {layernorm,batchnorm,none}] [--opt {adamw,sgd}]\n",
      "               [--bs BS] [--lr LR] [--min_lr MIN_LR]\n",
      "               [--weight_decay WEIGHT_DECAY] [--lr_decay LR_DECAY]\n",
      "               [--lr_decay_patience LR_DECAY_PATIENCE]\n",
      "               [--unfreeze {sequential,single,all}]\n",
      "               [--unfreeze_patience UNFREEZE_PATIENCE] [--levels LEVELS]\n",
      "               [--factor FACTOR] [--n_iterations N_ITERATIONS]\n",
      "               [--n_train_batches N_TRAIN_BATCHES]\n",
      "               [--n_test_batches N_TEST_BATCHES] [--resume_exp RESUME_EXP]\n",
      "\n",
      "DL Kolmogorov\n",
      "\n",
      "options:\n",
      "  -h, --help            show this help message and exit\n",
      "  --gpus GPUS           number of gpus per trial\n",
      "  --mode {compare_nets_bs,compare_nets_heat,compare_freeze,dims_heat_paraboloid,avg_heat_gaussian,avg_heat_paraboloid,avg_bs,avg_basket,optimize_bs}\n",
      "                        choose between hyperparamter search and single run\n",
      "                        with different seeds\n",
      "  --seed SEED           seed for the experiment\n",
      "  --checkpoint          save checkpoint at the end\n",
      "  --pde {Basket,BlackScholes,HeatParaboloid,HeatGaussian}\n",
      "                        choose the underlying PDE\n",
      "  --net {MultilevelNetNoRes,MultilevelNet,Feedforward}\n",
      "                        choose the normalization layer\n",
      "  --norm_layer {layernorm,batchnorm,none}\n",
      "                        choose the neural network architecture\n",
      "  --opt {adamw,sgd}     choose the optimizer\n",
      "  --bs BS               mini-batch size\n",
      "  --lr LR               initial learning rate\n",
      "  --min_lr MIN_LR       threshold for learning rate\n",
      "  --weight_decay WEIGHT_DECAY\n",
      "                        weight decay\n",
      "  --lr_decay LR_DECAY   decay for the learning rate each iteration\n",
      "  --lr_decay_patience LR_DECAY_PATIENCE\n",
      "                        number of iterations to next decay\n",
      "  --unfreeze {sequential,single,all}\n",
      "                        how to unfreeze the model\n",
      "  --unfreeze_patience UNFREEZE_PATIENCE\n",
      "                        number of iterations to next unfreeze\n",
      "  --levels LEVELS       number of levels for the model\n",
      "  --factor FACTOR       scaling factor for the input dimension of the model\n",
      "  --n_iterations N_ITERATIONS\n",
      "                        number of total iterations\n",
      "  --n_train_batches N_TRAIN_BATCHES\n",
      "                        gradient steps per iteration\n",
      "  --n_test_batches N_TEST_BATCHES\n",
      "                        number of batches for the evaluation\n",
      "  --resume_exp RESUME_EXP\n",
      "                        experiment name to resume\n"
     ]
    }
   ],
   "source": [
    "# optional: individual experiment\n",
    "!python main.py --help"
   ]
  },
  {
   "cell_type": "markdown",
   "metadata": {},
   "source": [
    "## Analyze experiments\n",
    "\n",
    "Choose a finished/precomputed experiment to analyze."
   ]
  },
  {
   "cell_type": "code",
   "execution_count": null,
   "metadata": {},
   "outputs": [],
   "source": [
    "from deep_kolmogorov import utils\n",
    "exp_widget = utils.get_exp_widget()\n",
    "exp_widget"
   ]
  },
  {
   "cell_type": "markdown",
   "metadata": {},
   "source": [
    "### Tensorboard\n",
    "\n",
    "Open tensorboard to analyze the experiment."
   ]
  },
  {
   "cell_type": "code",
   "execution_count": null,
   "metadata": {},
   "outputs": [],
   "source": [
    "%load_ext tensorboard\n",
    "%tensorboard --logdir '{exp_widget.value._experiment_dir}'"
   ]
  },
  {
   "cell_type": "markdown",
   "metadata": {},
   "source": [
    "### Tables\n",
    "\n",
    "Output tables for the chosen experiment."
   ]
  },
  {
   "cell_type": "code",
   "execution_count": null,
   "metadata": {
    "scrolled": true
   },
   "outputs": [],
   "source": [
    "utils.visualize_exp(exp_widget.value, show_only_final=False)"
   ]
  },
  {
   "cell_type": "markdown",
   "metadata": {},
   "source": [
    "### Black-Scholes Model approximation\n",
    "\n",
    "Choose the 'avg_bs' experiment and plot the approximation to the analytic solutions."
   ]
  },
  {
   "cell_type": "code",
   "execution_count": null,
   "metadata": {},
   "outputs": [],
   "source": [
    "utils.get_bs_widget(exp_widget.value)"
   ]
  }
 ],
 "metadata": {
  "@webio": {
   "lastCommId": null,
   "lastKernelId": null
  },
  "kernelspec": {
   "display_name": "torch",
   "language": "python",
   "name": "python3"
  },
  "language_info": {
   "codemirror_mode": {
    "name": "ipython",
    "version": 3
   },
   "file_extension": ".py",
   "mimetype": "text/x-python",
   "name": "python",
   "nbconvert_exporter": "python",
   "pygments_lexer": "ipython3",
   "version": "3.10.4"
  }
 },
 "nbformat": 4,
 "nbformat_minor": 2
}
